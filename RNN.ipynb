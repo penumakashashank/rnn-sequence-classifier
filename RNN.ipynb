{
  "nbformat": 4,
  "nbformat_minor": 0,
  "metadata": {
    "colab": {
      "provenance": []
    },
    "kernelspec": {
      "name": "python3",
      "display_name": "Python 3"
    },
    "language_info": {
      "name": "python"
    }
  },
  "cells": [
    {
      "cell_type": "code",
      "execution_count": 1,
      "metadata": {
        "id": "u_iW9GnlHAfP"
      },
      "outputs": [],
      "source": [
        "import torch\n",
        "import torch.nn as nn\n",
        "import torch.optim as optim\n",
        "from torch.utils.data import Dataset, DataLoader\n",
        "import random\n",
        "from sklearn.metrics import accuracy_score, confusion_matrix\n",
        "import matplotlib.pyplot as plt\n",
        "import seaborn as sns\n",
        "import numpy as np"
      ]
    },
    {
      "cell_type": "code",
      "source": [
        "# Dataset with sequences and labels (1 if increasing sequence, else 0)\n",
        "class SeqDataset(Dataset):\n",
        "    def __init__(self, size=2000, seq_len=4):\n",
        "        self.data = []\n",
        "        for _ in range(size):\n",
        "            seq = [random.randint(0, 9) for _ in range(seq_len)]\n",
        "            label = 1 if all(x < y for x, y in zip(seq, seq[1:])) else 0\n",
        "            self.data.append((torch.tensor(seq), torch.tensor(label)))\n",
        "\n",
        "    def __len__(self):\n",
        "        return len(self.data)\n",
        "\n",
        "    def __getitem__(self, idx):\n",
        "        return self.data[idx]"
      ],
      "metadata": {
        "id": "H2-70gxjHMCW"
      },
      "execution_count": 2,
      "outputs": []
    },
    {
      "cell_type": "code",
      "source": [
        "# Dataloaders\n",
        "train_loader = DataLoader(SeqDataset(size=2000), batch_size=32, shuffle=True)\n",
        "test_loader = DataLoader(SeqDataset(size=200), batch_size=32)"
      ],
      "metadata": {
        "id": "eTxAX6lAHPsq"
      },
      "execution_count": 3,
      "outputs": []
    },
    {
      "cell_type": "code",
      "source": [
        "# RNN Model (can choose lstm, gru, or rnn)\n",
        "class RNNClassifier(nn.Module):\n",
        "    def __init__(self, rnn_type='lstm', hidden_dim=16, dropout=0.0):\n",
        "        super().__init__()\n",
        "        self.embed = nn.Embedding(10, 8)\n",
        "        rnn_dict = {'rnn': nn.RNN, 'lstm': nn.LSTM, 'gru': nn.GRU}\n",
        "        self.rnn = rnn_dict[rnn_type](input_size=8, hidden_size=hidden_dim, batch_first=True, dropout=dropout)\n",
        "        self.fc = nn.Linear(hidden_dim, 1)\n",
        "        self.act = nn.Sigmoid()\n",
        "        self.rnn_type = rnn_type\n",
        "\n",
        "    def forward(self, x):\n",
        "        x = self.embed(x)\n",
        "        if self.rnn_type == 'lstm':\n",
        "            _, (h, _) = self.rnn(x)\n",
        "        else:\n",
        "            _, h = self.rnn(x)\n",
        "        out = self.fc(h[-1])\n",
        "        return self.act(out).squeeze()"
      ],
      "metadata": {
        "id": "ZXaEI5fDHRXH"
      },
      "execution_count": 4,
      "outputs": []
    },
    {
      "cell_type": "code",
      "source": [
        "#training\n",
        "def train(model):\n",
        "    loss_fn = nn.BCELoss()\n",
        "    optimizer = optim.Adam(model.parameters(), lr=0.01)\n",
        "    model.train()\n",
        "\n",
        "    for epoch in range(5):\n",
        "        for x, y in train_loader:\n",
        "            out = model(x)\n",
        "            loss = loss_fn(out, y.float())\n",
        "            optimizer.zero_grad()\n",
        "            loss.backward()\n",
        "            optimizer.step()\n",
        "\n",
        "        print(f\"Epoch {epoch+1} - Loss: {loss.item():.4f}\")\n"
      ],
      "metadata": {
        "id": "o4OF_txfHUwP"
      },
      "execution_count": 5,
      "outputs": []
    },
    {
      "cell_type": "code",
      "source": [
        "def evaluate(model):\n",
        "    model.eval()\n",
        "    all_preds = []\n",
        "    all_labels = []\n",
        "\n",
        "    with torch.no_grad():\n",
        "        for x, y in test_loader:\n",
        "            out = model(x)\n",
        "            preds = (out > 0.5).int()\n",
        "            all_preds.extend(preds.cpu().tolist())\n",
        "            all_labels.extend(y.cpu().tolist())\n",
        "\n",
        "    acc = accuracy_score(all_labels, all_preds)\n",
        "    cm = confusion_matrix(all_labels, all_preds)\n",
        "\n",
        "    print(f\"\\nAccuracy: {acc * 100:.2f}%\")\n",
        "    print(\"Confusion Matrix:\")\n",
        "    print(cm)\n",
        "\n",
        "    plt.figure(figsize=(4, 3))\n",
        "    sns.heatmap(cm, annot=True, fmt=\"d\", cmap=\"viridis\",\n",
        "                xticklabels=[\"Not Increasing\", \"Increasing\"],\n",
        "                yticklabels=[\"Not Increasing\", \"Increasing\"])\n",
        "    plt.xlabel(\"Predicted\")\n",
        "    plt.ylabel(\"Actual\")\n",
        "    plt.title(\"Confusion Matrix\")\n",
        "    plt.tight_layout()\n",
        "    plt.show()"
      ],
      "metadata": {
        "id": "wtG0SPhMHZkW"
      },
      "execution_count": 6,
      "outputs": []
    },
    {
      "cell_type": "code",
      "source": [
        "# Try different rnn_type: 'rnn', 'lstm', 'gru'\n",
        "model = RNNClassifier(rnn_type='gru', hidden_dim=32, dropout=0.1)\n",
        "train(model)\n",
        "evaluate(model)"
      ],
      "metadata": {
        "colab": {
          "base_uri": "https://localhost:8080/",
          "height": 535
        },
        "id": "7-lEOgHiHnn7",
        "outputId": "0825bdfe-163b-4ab1-ed9e-2e03f82d568a"
      },
      "execution_count": 7,
      "outputs": [
        {
          "output_type": "stream",
          "name": "stderr",
          "text": [
            "/usr/local/lib/python3.11/dist-packages/torch/nn/modules/rnn.py:123: UserWarning: dropout option adds dropout after all but last recurrent layer, so non-zero dropout expects num_layers greater than 1, but got dropout=0.1 and num_layers=1\n",
            "  warnings.warn(\n"
          ]
        },
        {
          "output_type": "stream",
          "name": "stdout",
          "text": [
            "Epoch 1 - Loss: 0.0270\n",
            "Epoch 2 - Loss: 0.1944\n",
            "Epoch 3 - Loss: 0.0120\n",
            "Epoch 4 - Loss: 0.0549\n",
            "Epoch 5 - Loss: 0.0007\n",
            "\n",
            "Accuracy: 98.50%\n",
            "Confusion Matrix:\n",
            "[[197   0]\n",
            " [  3   0]]\n"
          ]
        },
        {
          "output_type": "display_data",
          "data": {
            "text/plain": [
              "<Figure size 400x300 with 2 Axes>"
            ],
            "image/png": "[encoded data removed]"
          },
          "metadata": {}
        }
      ]
    }
  ]
}